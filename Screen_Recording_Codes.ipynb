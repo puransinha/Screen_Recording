{
 "cells": [
  {
   "cell_type": "code",
   "execution_count": null,
   "id": "2a90381e",
   "metadata": {},
   "outputs": [],
   "source": [
    "## Screen recording Codes\n",
    "\n",
    "import cv2\n",
    "import numpy as np\n",
    "import os\n",
    "import pyautogui\n",
    "\n",
    "output = \"video.avi\"\n",
    "img = pyautogui.screenshot()\n",
    "img = cv2.cvtColor(np.array(img), cv2.COLOR_RGB2BGR)\n",
    "#get info from img\n",
    "height, width, channels = img.shape\n",
    "# Define the codec and create VideoWriter object\n",
    "fourcc = cv2.VideoWriter_fourcc(*'mp4v')\n",
    "out = cv2.VideoWriter(output, fourcc, 20.0, (width, height))\n",
    "\n",
    "while(True):\n",
    "    try:\n",
    "        img = pyautogui.screenshot()\n",
    "        image = cv2.cvtColor(np.array(img), cv2.COLOR_RGB2BGR)\n",
    "        out.write(image)\n",
    "        StopIteration(0.5)\n",
    "    except KeyboardInterrupt:\n",
    "        break\n",
    "\n",
    "out.release()\n",
    "cv2.destroyAllWindows()"
   ]
  }
 ],
 "metadata": {
  "kernelspec": {
   "display_name": "Python 3",
   "language": "python",
   "name": "python3"
  },
  "language_info": {
   "codemirror_mode": {
    "name": "ipython",
    "version": 3
   },
   "file_extension": ".py",
   "mimetype": "text/x-python",
   "name": "python",
   "nbconvert_exporter": "python",
   "pygments_lexer": "ipython3",
   "version": "3.8.5"
  }
 },
 "nbformat": 4,
 "nbformat_minor": 5
}
